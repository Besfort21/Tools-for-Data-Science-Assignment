{
 "cells": [
  {
   "cell_type": "markdown",
   "metadata": {},
   "source": [
    "<center>\n",
    "    <img src=\"https://cf-courses-data.s3.us.cloud-object-storage.appdomain.cloud/IBMDeveloperSkillsNetwork-DS0105EN-SkillsNetwork/labs/Module2/images/SN_web_lightmode.png\" width=\"300\" alt=\"cognitiveclass.ai logo\">\n",
    "</center>\n"
   ]
  },
  {
   "cell_type": "markdown",
   "metadata": {},
   "source": [
    "#### Add your code below following the instructions given in the course\n"
   ]
  },
  {
   "cell_type": "markdown",
   "metadata": {
    "tags": []
   },
   "source": [
    "# Data Science Tools and Ecosystem"
   ]
  },
  {
   "cell_type": "markdown",
   "metadata": {},
   "source": [
    "In this notebook, Data Science Tools and Ecosystem are summarized."
   ]
  },
  {
   "cell_type": "markdown",
   "metadata": {},
   "source": [
    "**Objectives:**\n",
    "\n",
    "* List popular languages for Data Science\n",
    "* List popular libraries for Data Science\n",
    "* Table Tools for Data Science\n",
    "* Arithmetic examples"
   ]
  },
  {
   "cell_type": "markdown",
   "metadata": {},
   "source": [
    "Some of the popular languages that Data Scientists use are:"
   ]
  },
  {
   "cell_type": "markdown",
   "metadata": {},
   "source": [
    "1. Python: Widely used for data analysis, machine learning, and scientific computing, with a vast array of libraries and frameworks available.\n",
    "\n",
    "2. R: Designed specifically for statistical computing and graphics, popular in academia and research.\n",
    "\n",
    "3. SQL: Used for managing and querying large databases, essential for data analysis and business intelligence.\n",
    "\n",
    "4. Scala: A high-level language that runs on the Java Virtual Machine, often used for big data processing and distributed computing.\n",
    "\n",
    "5. Julia: A newer language that is gaining popularity in scientific computing and data analysis due to its speed and ease of use.\n",
    "\n",
    "6. MATLAB: Popular in engineering and scientific research, with built-in tools for data analysis, visualization, and numerical computation."
   ]
  },
  {
   "cell_type": "markdown",
   "metadata": {},
   "source": [
    "Some of the commonly used libraries used by Data Scientists include:"
   ]
  },
  {
   "cell_type": "markdown",
   "metadata": {},
   "source": [
    "1.    NumPy: Provides support for arrays and matrices, and functions for mathematical operations and linear algebra.\n",
    "\n",
    "2.    Pandas: Offers data structures for easy manipulation and analysis of tabular data, such as dataframes and series.\n",
    "\n",
    "3.    Matplotlib: A comprehensive library for creating static, animated, and interactive visualizations in Python.\n",
    "\n",
    "4.    Scikit-learn: A powerful library for machine learning tasks such as regression, classification, clustering, and dimensionality reduction.\n",
    "\n",
    "5.    TensorFlow: An open-source library for building and training neural networks, developed by Google.\n",
    "\n",
    "6.    PyTorch: Another popular library for deep learning, developed by Facebook.\n",
    "\n",
    "7.    Keras: A high-level neural networks API, that can run on top of TensorFlow, CNTK, or Theano.\n",
    "\n",
    "8.    Seaborn: A library that provides easy-to-use functions for creating attractive and informative statistical graphics.\n",
    "\n",
    "9.    SciPy: A library that provides modules for optimization, integration, interpolation, linear algebra, and more."
   ]
  },
  {
   "cell_type": "markdown",
   "metadata": {},
   "source": [
    "### Exercise 6"
   ]
  },
  {
   "cell_type": "markdown",
   "metadata": {},
   "source": [
    "| Data Science Tools |\n",
    "|-------------------|\n",
    "| Jupyter Notebook   |\n",
    "| RStudio            |\n",
    "| Spyder             |\n",
    "\n",
    "- **Jupyter Notebook**: An open-source web application that allows you to create and share documents containing live code, equations, visualizations, and narrative text. \n",
    "- **RStudio**: An integrated development environment (IDE) for R programming language, providing a powerful and user-friendly interface for data analysis and visualization. \n",
    "- **Spyder**: An open-source IDE for scientific computing in Python, with features such as code completion, debugging, and variable explorer.\n"
   ]
  },
  {
   "cell_type": "markdown",
   "metadata": {},
   "source": [
    "### Below are a few examples of evaluating arithmetic expressions in Python"
   ]
  },
  {
   "cell_type": "code",
   "execution_count": 6,
   "metadata": {},
   "outputs": [
    {
     "name": "stdout",
     "output_type": "stream",
     "text": [
      "2\n",
      "15\n",
      "3\n"
     ]
    }
   ],
   "source": [
    "print(1+1)\n",
    "print(3*5)\n",
    "print(123%4)"
   ]
  },
  {
   "cell_type": "code",
   "execution_count": 7,
   "metadata": {},
   "outputs": [
    {
     "data": {
      "text/plain": [
       "17"
      ]
     },
     "execution_count": 7,
     "metadata": {},
     "output_type": "execute_result"
    }
   ],
   "source": [
    "# This a simple arithmetic expression to mutiply then add integers\n",
    "(3*4)+5"
   ]
  },
  {
   "cell_type": "code",
   "execution_count": 8,
   "metadata": {},
   "outputs": [
    {
     "data": {
      "text/plain": [
       "3.3333333333333335"
      ]
     },
     "execution_count": 8,
     "metadata": {},
     "output_type": "execute_result"
    }
   ],
   "source": [
    "# This will convert 200 minutes to hours by diving by 60\n",
    "200 / 60"
   ]
  },
  {
   "cell_type": "markdown",
   "metadata": {},
   "source": [
    "## Author"
   ]
  },
  {
   "cell_type": "markdown",
   "metadata": {},
   "source": [
    "Besfort"
   ]
  },
  {
   "cell_type": "code",
   "execution_count": null,
   "metadata": {},
   "outputs": [],
   "source": []
  }
 ],
 "metadata": {
  "kernelspec": {
   "display_name": "Python 3 (ipykernel)",
   "language": "python",
   "name": "python3"
  },
  "language_info": {
   "codemirror_mode": {
    "name": "ipython",
    "version": 3
   },
   "file_extension": ".py",
   "mimetype": "text/x-python",
   "name": "python",
   "nbconvert_exporter": "python",
   "pygments_lexer": "ipython3",
   "version": "3.9.13"
  }
 },
 "nbformat": 4,
 "nbformat_minor": 4
}
